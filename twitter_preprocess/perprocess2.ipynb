{
 "cells": [
  {
   "cell_type": "code",
   "execution_count": 1,
   "id": "42eb8e79-b3ea-4ffb-9d43-7f2a57f6cc5b",
   "metadata": {},
   "outputs": [],
   "source": [
    "import requests\n",
    "import pandas as pd\n",
    "import json"
   ]
  },
  {
   "attachments": {},
   "cell_type": "markdown",
   "id": "aeba98fb-b277-4d2d-a84a-01dd08dad146",
   "metadata": {},
   "source": [
    "# Mastodon"
   ]
  },
  {
   "attachments": {},
   "cell_type": "markdown",
   "id": "05e176ba-9c5d-4057-88ff-8515d9960ab0",
   "metadata": {},
   "source": [
    "## hour_response_mstd"
   ]
  },
  {
   "cell_type": "code",
   "execution_count": 10,
   "id": "7e4592e8-617a-4903-85b0-123dcea736bb",
   "metadata": {},
   "outputs": [],
   "source": [
    "url = f\"http://172.26.132.163:5984/mastodon_australia/_design/24hour/_view/response?reduce=true&group=true\"\n",
    "\n",
    "response = requests.get(url, auth=('admin', 'pass'))\n",
    "\n",
    "if response.status_code == 200:\n",
    "    data = response.json()\n",
    "else:\n",
    "    print(\"Failed to retrieve view data. Status code:\", response.status_code)\n",
    "\n",
    "json_file = \"hour_response_mstd.json\"\n",
    "with open(json_file, 'w') as outfile:\n",
    "    json.dump(data, outfile)"
   ]
  },
  {
   "attachments": {},
   "cell_type": "markdown",
   "id": "1682a18d",
   "metadata": {},
   "source": [
    "## hour_sentiment_mstd"
   ]
  },
  {
   "cell_type": "code",
   "execution_count": 14,
   "id": "55320d2f",
   "metadata": {},
   "outputs": [],
   "source": [
    "url = f\"http://172.26.132.163:5984/mastodon_australia/_design/24hour/_view/sentiment?reduce=true&group=true\"\n",
    "\n",
    "response = requests.get(url, auth=('admin', 'pass'))\n",
    "\n",
    "if response.status_code == 200:\n",
    "    data = response.json()\n",
    "else:\n",
    "    print(\"Failed to retrieve view data. Status code:\", response.status_code)\n",
    "\n",
    "for row in data['rows']:\n",
    "    row['value']['average'] = row['value']['average'] * 5\n",
    "    \n",
    "json_file = \"hour_sentiment_mstd.json\"\n",
    "with open(json_file, 'w') as outfile:\n",
    "    json.dump(data, outfile)"
   ]
  },
  {
   "attachments": {},
   "cell_type": "markdown",
   "id": "d9882e4c-542d-446f-8c15-5eca8840e0d1",
   "metadata": {},
   "source": [
    "## weekday_sentiment_mstd"
   ]
  },
  {
   "cell_type": "code",
   "execution_count": 11,
   "id": "fc5c6735-81a4-441d-ba7b-17e6c0ba239c",
   "metadata": {},
   "outputs": [],
   "source": [
    "url = f\"http://172.26.132.163:5984/mastodon_australia/_design/7daysOfWeek/_view/sentiment?reduce=true&group=true\"\n",
    "\n",
    "response = requests.get(url, auth=('admin', 'pass'))\n",
    "\n",
    "if response.status_code == 200:\n",
    "    data = response.json()\n",
    "else:\n",
    "    print(\"Failed to retrieve view data. Status code:\", response.status_code)\n",
    "\n",
    "for row in data['rows']:\n",
    "    row['value']['average'] = row['value']['average'] * 5\n",
    "\n",
    "json_file = \"weekday_sentiment_mstd.json\"\n",
    "with open(json_file, 'w') as outfile:\n",
    "    json.dump(data, outfile)"
   ]
  },
  {
   "attachments": {},
   "cell_type": "markdown",
   "id": "0c19a4af-8fa9-4def-a8a3-507ad8648f3c",
   "metadata": {},
   "source": [
    "# Twitter"
   ]
  },
  {
   "attachments": {},
   "cell_type": "markdown",
   "id": "4b409e37",
   "metadata": {},
   "source": [
    "## hour_response"
   ]
  },
  {
   "cell_type": "code",
   "execution_count": 13,
   "id": "35b3aafa",
   "metadata": {},
   "outputs": [],
   "source": [
    "url = f\"http://172.26.132.163:5984/loc_twitter_huge/_design/24hour/_view/response?reduce=true&group=true\"\n",
    "\n",
    "response = requests.get(url, auth=('admin', 'pass'))\n",
    "\n",
    "if response.status_code == 200:\n",
    "    data = response.json()\n",
    "else:\n",
    "    print(\"Failed to retrieve view data. Status code:\", response.status_code)\n",
    "\n",
    "json_file = \"hour_response.json\"\n",
    "with open(json_file, 'w') as outfile:\n",
    "    json.dump(data, outfile)"
   ]
  },
  {
   "attachments": {},
   "cell_type": "markdown",
   "id": "24944323-61bc-4a77-b7cd-e4baf507d6f3",
   "metadata": {},
   "source": [
    "## hour_sentiment"
   ]
  },
  {
   "cell_type": "code",
   "execution_count": 16,
   "id": "6b162d93-da88-4739-9dc9-6b719915171e",
   "metadata": {},
   "outputs": [],
   "source": [
    "url = f\"http://172.26.132.163:5984/loc_twitter_huge/_design/24hour/_view/sentiment?reduce=true&group=true\"\n",
    "\n",
    "response = requests.get(url, auth=('admin', 'pass'))\n",
    "\n",
    "if response.status_code == 200:\n",
    "    data = response.json()\n",
    "else:\n",
    "    print(\"Failed to retrieve view data. Status code:\", response.status_code)\n",
    "    \n",
    "json_file = \"hour_sentiment.json\"\n",
    "with open(json_file, 'w') as outfile:\n",
    "    json.dump(data, outfile)"
   ]
  },
  {
   "attachments": {},
   "cell_type": "markdown",
   "id": "f7b58c2a",
   "metadata": {},
   "source": [
    "## weekday_sentiment"
   ]
  },
  {
   "cell_type": "code",
   "execution_count": 18,
   "id": "7e00e218",
   "metadata": {},
   "outputs": [],
   "source": [
    "url = f\"http://172.26.132.163:5984/loc_twitter_huge/_design/7daysOfWeek/_view/sentiment?reduce=true&group=true\"\n",
    "\n",
    "response = requests.get(url, auth=('admin', 'pass'))\n",
    "\n",
    "if response.status_code == 200:\n",
    "    data = response.json()\n",
    "else:\n",
    "    print(\"Failed to retrieve view data. Status code:\", response.status_code)\n",
    "\n",
    "json_file = \"weekday_sentiment.json\"\n",
    "with open(json_file, 'w') as outfile:\n",
    "    json.dump(data, outfile)"
   ]
  },
  {
   "attachments": {},
   "cell_type": "markdown",
   "id": "feb30e10-04ed-4344-88ab-7d0d54027e7c",
   "metadata": {},
   "source": [
    "### AFL"
   ]
  },
  {
   "cell_type": "code",
   "execution_count": 34,
   "id": "fed8de71-a59f-4f40-8815-452051a0703e",
   "metadata": {},
   "outputs": [],
   "source": [
    "url = f\"http://172.26.132.163:5984/loc_twitter_huge/_design/aflWords/_view/sentiment?reduce=true&group=true\"\n",
    "\n",
    "response = requests.get(url, auth=('admin', 'pass'))\n",
    "\n",
    "if response.status_code == 200:\n",
    "    view_data3 = response.json()\n",
    "else:\n",
    "    print(\"Failed to retrieve view data. Status code:\", response.status_code)"
   ]
  },
  {
   "cell_type": "code",
   "execution_count": 35,
   "id": "b0071c8e-76d9-48f2-b113-d8135bfdba8c",
   "metadata": {},
   "outputs": [],
   "source": [
    "data3 = view_data3['rows']"
   ]
  },
  {
   "cell_type": "code",
   "execution_count": 43,
   "id": "6c0c7df1-8fd4-4cd2-baa8-c205ada01fb3",
   "metadata": {},
   "outputs": [],
   "source": [
    "team = [list(d.values())[0][0] for d in data3]\n",
    "state = [list(d.values())[0][1] for d in data3]\n",
    "sum = [list(list(d.values())[1].values())[0] for d in data3]\n",
    "count = [list(list(d.values())[1].values())[1] for d in data3]\n",
    "avg = [list(list(d.values())[1].values())[2] for d in data3]"
   ]
  },
  {
   "cell_type": "code",
   "execution_count": 44,
   "id": "c2f264b6-e457-4892-946c-15d2f7e4edd8",
   "metadata": {},
   "outputs": [],
   "source": [
    "data_clean = {\n",
    "    'team': team,\n",
    "    'state': state,\n",
    "    'sum': sum,\n",
    "    'count': count,\n",
    "    'avg': avg\n",
    "}"
   ]
  },
  {
   "cell_type": "code",
   "execution_count": 45,
   "id": "071b6347-bdf6-4688-abcf-bec706b2b9be",
   "metadata": {},
   "outputs": [
    {
     "data": {
      "text/html": [
       "<div>\n",
       "<style scoped>\n",
       "    .dataframe tbody tr th:only-of-type {\n",
       "        vertical-align: middle;\n",
       "    }\n",
       "\n",
       "    .dataframe tbody tr th {\n",
       "        vertical-align: top;\n",
       "    }\n",
       "\n",
       "    .dataframe thead th {\n",
       "        text-align: right;\n",
       "    }\n",
       "</style>\n",
       "<table border=\"1\" class=\"dataframe\">\n",
       "  <thead>\n",
       "    <tr style=\"text-align: right;\">\n",
       "      <th></th>\n",
       "      <th>team</th>\n",
       "      <th>state</th>\n",
       "      <th>sum</th>\n",
       "      <th>count</th>\n",
       "      <th>avg</th>\n",
       "    </tr>\n",
       "  </thead>\n",
       "  <tbody>\n",
       "    <tr>\n",
       "      <th>0</th>\n",
       "      <td>Adelaide Crows</td>\n",
       "      <td>1</td>\n",
       "      <td>3.303149</td>\n",
       "      <td>130</td>\n",
       "      <td>0.025409</td>\n",
       "    </tr>\n",
       "    <tr>\n",
       "      <th>1</th>\n",
       "      <td>Adelaide Crows</td>\n",
       "      <td>2</td>\n",
       "      <td>9.979369</td>\n",
       "      <td>127</td>\n",
       "      <td>0.078578</td>\n",
       "    </tr>\n",
       "    <tr>\n",
       "      <th>2</th>\n",
       "      <td>Adelaide Crows</td>\n",
       "      <td>3</td>\n",
       "      <td>4.424787</td>\n",
       "      <td>63</td>\n",
       "      <td>0.070235</td>\n",
       "    </tr>\n",
       "    <tr>\n",
       "      <th>3</th>\n",
       "      <td>Adelaide Crows</td>\n",
       "      <td>4</td>\n",
       "      <td>73.350201</td>\n",
       "      <td>1312</td>\n",
       "      <td>0.055907</td>\n",
       "    </tr>\n",
       "    <tr>\n",
       "      <th>4</th>\n",
       "      <td>Adelaide Crows</td>\n",
       "      <td>5</td>\n",
       "      <td>1.199574</td>\n",
       "      <td>48</td>\n",
       "      <td>0.024991</td>\n",
       "    </tr>\n",
       "  </tbody>\n",
       "</table>\n",
       "</div>"
      ],
      "text/plain": [
       "             team  state        sum  count       avg\n",
       "0  Adelaide Crows      1   3.303149    130  0.025409\n",
       "1  Adelaide Crows      2   9.979369    127  0.078578\n",
       "2  Adelaide Crows      3   4.424787     63  0.070235\n",
       "3  Adelaide Crows      4  73.350201   1312  0.055907\n",
       "4  Adelaide Crows      5   1.199574     48  0.024991"
      ]
     },
     "execution_count": 45,
     "metadata": {},
     "output_type": "execute_result"
    }
   ],
   "source": [
    "df = pd.DataFrame(data_clean)\n",
    "df.head(5)"
   ]
  },
  {
   "cell_type": "code",
   "execution_count": 66,
   "id": "c7c9ae2b-5904-4c56-9594-515ef57aad48",
   "metadata": {},
   "outputs": [],
   "source": [
    "grouped = df.groupby('team')\n",
    "sum_values = grouped['sum'].sum()\n",
    "count_values = grouped['count'].mean()"
   ]
  },
  {
   "cell_type": "code",
   "execution_count": 67,
   "id": "9023b213-f9b6-461e-8de4-54f945157f0f",
   "metadata": {},
   "outputs": [],
   "source": [
    "df = pd.concat([sum_values, count_values], axis = 1)"
   ]
  },
  {
   "cell_type": "code",
   "execution_count": 68,
   "id": "a2456218-0fc4-447e-b00f-5ba0a630d164",
   "metadata": {},
   "outputs": [],
   "source": [
    "df['avg'] = df['sum']/df['count']"
   ]
  },
  {
   "cell_type": "code",
   "execution_count": 73,
   "id": "ff4dd793-87fa-4d0f-8180-d8e5fef1cb8d",
   "metadata": {},
   "outputs": [],
   "source": [
    "df = df.reset_index()"
   ]
  },
  {
   "cell_type": "code",
   "execution_count": 74,
   "id": "1f2b4a3e-d07c-4486-8429-bfe1fc1ebf33",
   "metadata": {},
   "outputs": [
    {
     "data": {
      "text/plain": [
       "'[{\"team\":\"Adelaide Crows\",\"sum\":96.4677598329,\"count\":266.7142857143,\"avg\":0.361689512},{\"team\":\"Brisbane Lions\",\"sum\":53.7727118914,\"count\":74.1428571429,\"avg\":0.7252581565},{\"team\":\"Carlton\",\"sum\":107.7426000366,\"count\":232.5714285714,\"avg\":0.4632667078},{\"team\":\"Collingwood\",\"sum\":586.2313349135,\"count\":760.1428571429,\"avg\":0.771212055},{\"team\":\"Essendon.\",\"sum\":165.0186697585,\"count\":389.5714285714,\"avg\":0.4235902781},{\"team\":\"Fremantle\",\"sum\":250.6876212865,\"count\":377.7142857143,\"avg\":0.6636964255},{\"team\":\"GWS Giants\",\"sum\":34.6199587837,\"count\":66.8333333333,\"avg\":0.5180043708},{\"team\":\"Geelong Cats\",\"sum\":53.5743378766,\"count\":79.1428571429,\"avg\":0.676932067},{\"team\":\"Gold Coast Suns\",\"sum\":30.8215943528,\"count\":42.2857142857,\"avg\":0.7288890556},{\"team\":\"Hawthorn\",\"sum\":93.6563558081,\"count\":159.5714285714,\"avg\":0.5869243426},{\"team\":\"Melbourne\",\"sum\":65.9303526409,\"count\":84.2857142857,\"avg\":0.7822245229},{\"team\":\"North Melbourne\",\"sum\":46.9775961226,\"count\":113.7142857143,\"avg\":0.4131195639},{\"team\":\"Port Adelaide\",\"sum\":88.844935022,\"count\":343.5,\"avg\":0.258646099},{\"team\":\"Richmond\",\"sum\":166.9706695726,\"count\":249.4285714286,\"avg\":0.6694127646},{\"team\":\"St Kilda.\",\"sum\":126.8016389277,\"count\":152.375,\"avg\":0.832168262},{\"team\":\"Sydney Swans\",\"sum\":79.5131047333,\"count\":142.5,\"avg\":0.5579866999},{\"team\":\"West Coast Eagles\",\"sum\":55.6510765144,\"count\":127.2857142857,\"avg\":0.4372138447},{\"team\":\"Western Bulldogs\",\"sum\":25.4944011262,\"count\":68.5,\"avg\":0.3721810383}]'"
      ]
     },
     "execution_count": 74,
     "metadata": {},
     "output_type": "execute_result"
    }
   ],
   "source": [
    "json_data = df.to_json(orient='records')\n",
    "json_data"
   ]
  },
  {
   "cell_type": "code",
   "execution_count": null,
   "id": "2f442ef5-436c-4659-8b00-1adb92162dbb",
   "metadata": {},
   "outputs": [],
   "source": []
  }
 ],
 "metadata": {
  "kernelspec": {
   "display_name": "Python 3 (ipykernel)",
   "language": "python",
   "name": "python3"
  },
  "language_info": {
   "codemirror_mode": {
    "name": "ipython",
    "version": 3
   },
   "file_extension": ".py",
   "mimetype": "text/x-python",
   "name": "python",
   "nbconvert_exporter": "python",
   "pygments_lexer": "ipython3",
   "version": "3.11.3"
  }
 },
 "nbformat": 4,
 "nbformat_minor": 5
}
