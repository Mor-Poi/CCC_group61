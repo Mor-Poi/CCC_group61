{
 "cells": [
  {
   "cell_type": "code",
   "execution_count": 2,
   "id": "10636ee0-3c6b-45f5-a44c-56e8a659f28a",
   "metadata": {},
   "outputs": [],
   "source": [
    "import requests\n",
    "import pandas as pd\n",
    "import json"
   ]
  },
  {
   "attachments": {},
   "cell_type": "markdown",
   "id": "036f4f9e-38e2-43c0-a57a-f233e6ec56a4",
   "metadata": {},
   "source": [
    "### API - lang"
   ]
  },
  {
   "cell_type": "code",
   "execution_count": null,
   "id": "6208d471-7df3-41b6-98ec-6f1690bff821",
   "metadata": {},
   "outputs": [],
   "source": [
    "url = f\"http://172.26.132.163:5984/loc_twitter_huge/_design/emoji/_view/lang-count?reduce=true&group=true\"\n",
    "\n",
    "response = requests.get(url, auth=('admin', 'pass'))\n",
    "\n",
    "if response.status_code == 200:\n",
    "    view_data = response.json()\n",
    "else:\n",
    "    print(\"Failed to retrieve view data. Status code:\", response.status_code)"
   ]
  },
  {
   "cell_type": "code",
   "execution_count": null,
   "id": "d8fc45e4-ba79-4aeb-a4c9-e7423c4a1726",
   "metadata": {},
   "outputs": [],
   "source": [
    "data = view_data['rows']\n",
    "value = [list(d.values())[1] for d in data]\n",
    "lang = [list(d.values())[0][0] for d in data]\n",
    "emoji = [list(d.values())[0][1] for d in data]"
   ]
  },
  {
   "cell_type": "code",
   "execution_count": null,
   "id": "84c07b1a-57b3-4571-84a8-891e40d4f047",
   "metadata": {},
   "outputs": [],
   "source": [
    "data_clean = {\n",
    "    'emoji': emoji,\n",
    "    'lang': lang,\n",
    "    'value': value\n",
    "}"
   ]
  },
  {
   "cell_type": "code",
   "execution_count": null,
   "id": "b44b1978-49c1-4162-b8ea-da508482cdf3",
   "metadata": {},
   "outputs": [],
   "source": [
    "df = pd.DataFrame(data_clean)\n",
    "df.head(5)"
   ]
  },
  {
   "attachments": {},
   "cell_type": "markdown",
   "id": "3550e5b3-1e1b-47aa-815d-8a41201dae8c",
   "metadata": {},
   "source": [
    "### API - lang"
   ]
  },
  {
   "cell_type": "code",
   "execution_count": null,
   "id": "32548a39-bbd1-4260-abfc-10b855c3bf5a",
   "metadata": {},
   "outputs": [],
   "source": [
    "df.lang.value_counts().head(10)"
   ]
  },
  {
   "cell_type": "code",
   "execution_count": null,
   "id": "d08c755d-d596-452b-b9de-bcc1657ef0ee",
   "metadata": {},
   "outputs": [],
   "source": [
    "en = df[df.lang == 'en'].sort_values(by=['value'], ascending=False).head(6)\n",
    "en = en.drop(en.index[3])\n",
    "en"
   ]
  },
  {
   "cell_type": "code",
   "execution_count": null,
   "id": "2ad6fb95-3054-4f30-b24a-58ec21877ae7",
   "metadata": {},
   "outputs": [],
   "source": [
    "ja = df[df.lang == 'ja'].sort_values(by=['value'], ascending=False).head(5)\n",
    "ja"
   ]
  },
  {
   "cell_type": "code",
   "execution_count": null,
   "id": "b05397e2-d4fd-47a1-b358-7c99b89b4f58",
   "metadata": {},
   "outputs": [],
   "source": [
    "ind = df[df.lang == 'in'].sort_values(by=['value'], ascending=False).head(5)\n",
    "ind"
   ]
  },
  {
   "cell_type": "code",
   "execution_count": null,
   "id": "54c67448-a20e-4062-a0b3-b2f3889b64dd",
   "metadata": {},
   "outputs": [],
   "source": [
    "es = df[df.lang == 'es'].sort_values(by=['value'], ascending=False).head(5)\n",
    "es"
   ]
  },
  {
   "cell_type": "code",
   "execution_count": null,
   "id": "51d39b90-47bc-4f9e-835a-64c4e565ca35",
   "metadata": {},
   "outputs": [],
   "source": [
    "ar = df[df.lang == 'ar'].sort_values(by=['value'], ascending=False).head(6)\n",
    "ar = ar.drop(ar.index[1])\n",
    "ar"
   ]
  },
  {
   "cell_type": "code",
   "execution_count": null,
   "id": "0bddd403-25c5-4b9d-a22c-21cb7d8942f1",
   "metadata": {},
   "outputs": [],
   "source": [
    "dfs = [en,ja,ind,es,ar]\n",
    "merged_df = pd.concat(dfs)\n",
    "merged_df = merged_df.reset_index(drop=True)"
   ]
  },
  {
   "cell_type": "code",
   "execution_count": null,
   "id": "fd293484-3861-46c1-a7b3-a3d55dd8dc6b",
   "metadata": {},
   "outputs": [],
   "source": [
    "json_data1 = merged_df.to_json(orient='records')\n",
    "merged_df.to_json('emoji_lang.json')"
   ]
  },
  {
   "cell_type": "code",
   "execution_count": null,
   "id": "b125da35-685f-4eca-9418-055d2234780f",
   "metadata": {},
   "outputs": [],
   "source": [
    "json_data1"
   ]
  },
  {
   "attachments": {},
   "cell_type": "markdown",
   "id": "3b9cce01-4182-40fd-8680-80d1f37803fe",
   "metadata": {},
   "source": [
    "### API - state"
   ]
  },
  {
   "cell_type": "code",
   "execution_count": null,
   "id": "69821b80-cfe8-41d6-9ca1-e1577f213eb0",
   "metadata": {},
   "outputs": [],
   "source": [
    "url = f\"http://172.26.132.163:5984/loc_twitter_huge/_design/emoji/_view/ste-count?reduce=true&group=true\"\n",
    "\n",
    "response = requests.get(url, auth=('admin', 'pass'))\n",
    "\n",
    "if response.status_code == 200:\n",
    "    view_data = response.json()\n",
    "else:\n",
    "    print(\"Failed to retrieve view data. Status code:\", response.status_code)"
   ]
  },
  {
   "cell_type": "code",
   "execution_count": null,
   "id": "82952942-5628-430c-aa6a-bb95806c5348",
   "metadata": {},
   "outputs": [],
   "source": [
    "data = view_data['rows']\n",
    "value = [list(d.values())[1] for d in data]\n",
    "state = [list(d.values())[0][0] for d in data]\n",
    "emoji = [list(d.values())[0][1] for d in data]"
   ]
  },
  {
   "cell_type": "code",
   "execution_count": null,
   "id": "31be99f2-a1ce-4f30-ba7d-c5470173b181",
   "metadata": {},
   "outputs": [],
   "source": [
    "data_clean = {\n",
    "    'emoji': emoji,\n",
    "    'state': state,\n",
    "    'value': value\n",
    "}\n",
    "df = pd.DataFrame(data_clean)\n",
    "df.head(5)"
   ]
  },
  {
   "cell_type": "code",
   "execution_count": null,
   "id": "42c52795-8f4b-412a-bd5c-05a64ce9049b",
   "metadata": {},
   "outputs": [],
   "source": [
    "df.state.value_counts()"
   ]
  },
  {
   "cell_type": "code",
   "execution_count": null,
   "id": "657037f0-82c5-4f22-a202-df5b82b2c39f",
   "metadata": {},
   "outputs": [],
   "source": [
    "nsw = df[df.state == 1].sort_values(by=['value'], ascending=False).head(5)\n",
    "nsw = nsw.drop(nsw.index[3])\n",
    "nsw"
   ]
  },
  {
   "cell_type": "code",
   "execution_count": null,
   "id": "27fd8500-92d1-492c-a649-961f71c4a3e2",
   "metadata": {},
   "outputs": [],
   "source": [
    "vic = df[df.state == 2].sort_values(by=['value'], ascending=False).head(7)\n",
    "vic = vic.drop(vic.index[2])\n",
    "vic = vic.drop(vic.index[2])\n",
    "vic = vic.drop(vic.index[2])\n",
    "vic"
   ]
  },
  {
   "cell_type": "code",
   "execution_count": null,
   "id": "7309b16b-e7a4-4e86-b08f-d9f148dc8705",
   "metadata": {},
   "outputs": [],
   "source": [
    "qs = df[df.state == 3].sort_values(by=['value'], ascending=False).head(4)\n",
    "qs"
   ]
  },
  {
   "cell_type": "code",
   "execution_count": null,
   "id": "4476052a-acb6-46de-94f0-6765a1fdec3f",
   "metadata": {},
   "outputs": [],
   "source": [
    "sa = df[df.state == 4].sort_values(by=['value'], ascending=False).head(4)\n",
    "sa"
   ]
  },
  {
   "cell_type": "code",
   "execution_count": null,
   "id": "6064ddf1-4bec-4d3e-9d4d-47633522f32f",
   "metadata": {},
   "outputs": [],
   "source": [
    "wa = df[df.state == 5].sort_values(by=['value'], ascending=False).head(7)\n",
    "wa = wa.drop(wa.index[2])\n",
    "wa = wa.drop(wa.index[3])\n",
    "wa = wa.drop(wa.index[3])\n",
    "wa"
   ]
  },
  {
   "cell_type": "code",
   "execution_count": null,
   "id": "b94c3cea-4731-4504-bbf6-ceb65ca4ae9c",
   "metadata": {},
   "outputs": [],
   "source": [
    "tas = df[df.state == 6].sort_values(by=['value'], ascending=False).head(4)\n",
    "tas"
   ]
  },
  {
   "cell_type": "code",
   "execution_count": null,
   "id": "c4705a6e-7af4-4ef3-a72a-c5e3610244a4",
   "metadata": {},
   "outputs": [],
   "source": [
    "nt = df[df.state == 7].sort_values(by=['value'], ascending=False).head(4)\n",
    "nt"
   ]
  },
  {
   "cell_type": "code",
   "execution_count": null,
   "id": "e8e137f4-41e7-433a-98ec-5cecb6e04bcb",
   "metadata": {},
   "outputs": [],
   "source": []
  },
  {
   "cell_type": "code",
   "execution_count": null,
   "id": "049c9e97-df57-4120-b9ed-5cafb1f23264",
   "metadata": {},
   "outputs": [],
   "source": [
    "dfs2 = [nsw,vic,qs,sa,wa,tas,nt]\n",
    "merged_df2 = pd.concat(dfs2)\n",
    "merged_df2 = merged_df2.reset_index(drop=True)"
   ]
  },
  {
   "cell_type": "code",
   "execution_count": null,
   "id": "38b13c9f-90b6-4ba3-9ab4-7c5d3d132204",
   "metadata": {},
   "outputs": [],
   "source": [
    "merged_df2['lat'] = -37.810708\n",
    "merged_df2['lng'] = 144.943841"
   ]
  },
  {
   "cell_type": "code",
   "execution_count": null,
   "id": "f215998e-2b39-46d8-8c3a-e35a3aed23b2",
   "metadata": {},
   "outputs": [],
   "source": [
    "#nsw\n",
    "merged_df2.loc[0, 'lat'] = -33.88925\n",
    "merged_df2.loc[0, 'lng'] = 151.20289\n",
    "\n",
    "merged_df2.loc[1, 'lat'] = -31.867983\n",
    "merged_df2.loc[1, 'lng'] = 145.482869\n",
    "\n",
    "merged_df2.loc[2, 'lat'] = -34.30041\n",
    "merged_df2.loc[2, 'lng'] = 146.00359\n",
    "\n",
    "merged_df2.loc[3, 'lat'] = -30.246269\n",
    "merged_df2.loc[3, 'lng'] = 151.770008"
   ]
  },
  {
   "cell_type": "code",
   "execution_count": null,
   "id": "2c63d97d-ee36-4c6c-b862-0e285b4261fc",
   "metadata": {},
   "outputs": [],
   "source": [
    "#vic\n",
    "merged_df2.loc[4, 'lat'] = -37.3780\n",
    "merged_df2.loc[4, 'lng'] = 148.2917145\n",
    "\n",
    "merged_df2.loc[5, 'lat'] = -35.120197\n",
    "merged_df2.loc[5, 'lng'] = -35.120197\n",
    "\n",
    "merged_df2.loc[6, 'lat'] = -37.319106\n",
    "merged_df2.loc[6, 'lng'] =  142.042143"
   ]
  },
  {
   "cell_type": "code",
   "execution_count": null,
   "id": "ddb94df6-6259-41fe-8e07-ef478b4848be",
   "metadata": {},
   "outputs": [],
   "source": [
    "merged_df2.loc[8, 'lat'] = -25.333298\n",
    "merged_df2.loc[8, 'lng'] = 148.448364\n",
    "\n",
    "merged_df2.loc[9, 'lat'] = -20.784911\n",
    "merged_df2.loc[9, 'lng'] = 143.141402\n",
    "\n",
    "merged_df2.loc[10, 'lat'] = -25.161405\n",
    "merged_df2.loc[10, 'lng'] = 142.719402\n",
    "\n",
    "merged_df2.loc[11, 'lat'] = -25.887920\n",
    "merged_df2.loc[11, 'lng'] = 150.135953\n"
   ]
  },
  {
   "cell_type": "code",
   "execution_count": null,
   "id": "eaef4112-43fd-433c-878d-229feb6eb97a",
   "metadata": {},
   "outputs": [],
   "source": [
    "#sa\n",
    "merged_df2.loc[12, 'lat'] = -27.835395\n",
    "merged_df2.loc[12, 'lng'] = 132.238445\n",
    "\n",
    "merged_df2.loc[13, 'lat'] = -27.990725\n",
    "merged_df2.loc[13, 'lng'] = 136.105632\n",
    "\n",
    "merged_df2.loc[14, 'lat'] = -31.199844\n",
    "merged_df2.loc[14, 'lng'] = 134.281902\n",
    "\n",
    "merged_df2.loc[15, 'lat'] = -27.777637\n",
    "merged_df2.loc[15, 'lng'] = 138.593487"
   ]
  },
  {
   "cell_type": "code",
   "execution_count": null,
   "id": "9ac80580-9f96-4159-8c6b-d0946e62124b",
   "metadata": {},
   "outputs": [],
   "source": [
    "#wa\n",
    "merged_df2.loc[16, 'lat'] = -23.795314\n",
    "merged_df2.loc[16, 'lng'] = 123.582026\n",
    "\n",
    "merged_df2.loc[17, 'lat'] = -27.750771\n",
    "merged_df2.loc[17, 'lng'] = 120.217498\n",
    "\n",
    "merged_df2.loc[18, 'lat'] = -23.577826\n",
    "merged_df2.loc[18, 'lng'] = 117.169632\n",
    "\n",
    "merged_df2.loc[19, 'lat'] = -32.357818\n",
    "merged_df2.loc[19, 'lng'] = 118.297103"
   ]
  },
  {
   "cell_type": "code",
   "execution_count": null,
   "id": "ba02de40-d6ee-4977-9fe5-38d4c2137b35",
   "metadata": {},
   "outputs": [],
   "source": [
    "#tas\n",
    "merged_df2.loc[20, 'lat'] = -41.105413\n",
    "merged_df2.loc[20, 'lng'] = 144.981159\n",
    "\n",
    "\n",
    "merged_df2.loc[21, 'lat'] = -43.414207\n",
    "merged_df2.loc[21, 'lng'] = 146.431354\n",
    "\n",
    "\n",
    "merged_df2.loc[22, 'lat'] = -41.105413\n",
    "merged_df2.loc[22, 'lng'] = 148.013385\n",
    "\n",
    "merged_df2.loc[23, 'lat'] = -42.102924\n",
    "merged_df2.loc[23, 'lng'] = 146.571117\n"
   ]
  },
  {
   "cell_type": "code",
   "execution_count": null,
   "id": "2f4fcd14-f20f-4ddd-85f2-8e0021be1627",
   "metadata": {},
   "outputs": [],
   "source": [
    "#nt\n",
    "merged_df2.loc[24, 'lat'] = -22.192125\n",
    "merged_df2.loc[24, 'lng'] = 133.121451\n",
    "\n",
    "merged_df2.loc[25, 'lat'] = -18.744005\n",
    "merged_df2.loc[25, 'lng'] = 131.379813\n",
    "\n",
    "merged_df2.loc[26, 'lat'] = -18.744005\n",
    "merged_df2.loc[26, 'lng'] = 136.327648\n",
    "\n",
    "merged_df2.loc[27, 'lat'] = -14.142042\n",
    "merged_df2.loc[27, 'lng'] = 133.118243\n"
   ]
  },
  {
   "cell_type": "code",
   "execution_count": null,
   "id": "4fe37718-68f9-4fa3-aa59-cc178b575f6f",
   "metadata": {},
   "outputs": [],
   "source": [
    "merged_df2"
   ]
  },
  {
   "cell_type": "code",
   "execution_count": null,
   "id": "1705f55a-fd36-4e2a-ab8e-0091487b0cca",
   "metadata": {},
   "outputs": [],
   "source": [
    "json_data2 = merged_df2.to_json(orient='records')\n",
    "merged_df2.to_json('emoji_state.json')"
   ]
  },
  {
   "cell_type": "code",
   "execution_count": null,
   "id": "70466b93-f45b-4642-9738-29c3c2a3bb14",
   "metadata": {},
   "outputs": [],
   "source": [
    "json_data2 "
   ]
  },
  {
   "attachments": {},
   "cell_type": "markdown",
   "id": "e2213d08-6676-480e-abbc-1e014adc17ce",
   "metadata": {},
   "source": [
    "### Emoji sentiment(lang)"
   ]
  },
  {
   "cell_type": "code",
   "execution_count": 3,
   "id": "284ba55f-4e5d-47a8-982a-e12833979e5f",
   "metadata": {},
   "outputs": [],
   "source": [
    "url = f\"http://172.26.132.163:5984/twitter/_design/emoji/_view/lang-senti?reduce=true&group=true\"\n",
    "\n",
    "response = requests.get(url, auth=('admin', 'pass'))\n",
    "\n",
    "if response.status_code == 200:\n",
    "    view_data3 = response.json()\n",
    "else:\n",
    "    print(\"Failed to retrieve view data. Status code:\", response.status_code)"
   ]
  },
  {
   "cell_type": "code",
   "execution_count": 4,
   "id": "5f449d85-df00-4ad7-b559-fdb605243218",
   "metadata": {},
   "outputs": [],
   "source": [
    "data3 = view_data3['rows']\n",
    "sum = [list(list(d.values())[1].values())[0] for d in data3]\n",
    "count = [list(list(d.values())[1].values())[1] for d in data3]\n",
    "avg = [list(list(d.values())[1].values())[2] for d in data3]\n",
    "lang = [list(d.values())[0][0] for d in data3]\n",
    "emoji = [list(d.values())[0][1] for d in data3]"
   ]
  },
  {
   "cell_type": "code",
   "execution_count": 5,
   "id": "35b1b90e-17b3-424d-b337-43f18bcf77f2",
   "metadata": {},
   "outputs": [],
   "source": [
    "data_clean = {\n",
    "    'lang': lang,\n",
    "    'emoji': emoji,\n",
    "    'sum': sum,\n",
    "    'count': count,\n",
    "    'avg': avg\n",
    "}"
   ]
  },
  {
   "cell_type": "code",
   "execution_count": null,
   "id": "c1085468-44e0-4761-8bec-b47a70cee303",
   "metadata": {},
   "outputs": [],
   "source": [
    "df = pd.DataFrame(data_clean)\n",
    "\n",
    "df.head(5)"
   ]
  },
  {
   "attachments": {},
   "cell_type": "markdown",
   "id": "9eca2820-d37a-420e-8cf2-01d81ac77a91",
   "metadata": {},
   "source": [
    "#### Most negative emoji"
   ]
  },
  {
   "cell_type": "code",
   "execution_count": null,
   "id": "a8098bc5-4bce-4378-ac9a-11e2f4c4670f",
   "metadata": {},
   "outputs": [],
   "source": [
    "df_no_lang = df.drop('lang', axis=1)\n",
    "df_no_lang = df_no_lang.loc[(df['count'] > 30),:]\n",
    "ne = df_no_lang.groupby('emoji')['avg'].mean().reset_index().sort_values('avg').head(5)"
   ]
  },
  {
   "cell_type": "code",
   "execution_count": null,
   "id": "cb9f1158-ff79-477d-9096-5f664cc2fd3a",
   "metadata": {},
   "outputs": [],
   "source": [
    "ne.to_json('most_ne_emoji.json')\n",
    "json_data4 = ne.to_json(orient='records')\n",
    "json_data4 "
   ]
  },
  {
   "attachments": {},
   "cell_type": "markdown",
   "id": "bbc1a343-32b1-4682-9602-833e65f112a1",
   "metadata": {},
   "source": [
    "#### Most positive emoji"
   ]
  },
  {
   "cell_type": "code",
   "execution_count": null,
   "id": "1ca45a8c-cc3b-4340-8aa5-b86a6b9c19f7",
   "metadata": {},
   "outputs": [],
   "source": [
    "po = df_no_lang.groupby('emoji')['avg'].mean().reset_index().sort_values('avg', ascending=False).head(5)"
   ]
  },
  {
   "cell_type": "code",
   "execution_count": null,
   "id": "04703c49-86d0-494e-a9df-07c7b9f938b4",
   "metadata": {},
   "outputs": [],
   "source": [
    "po.to_json('most_ne_emoji.json')\n",
    "json_data5 = po.to_json(orient='records')\n",
    "json_data5 "
   ]
  },
  {
   "attachments": {},
   "cell_type": "markdown",
   "id": "cdae76ef-12ac-49ba-872a-4b5847bc44b9",
   "metadata": {},
   "source": [
    "#### Top 5 emoji used in au"
   ]
  },
  {
   "cell_type": "code",
   "execution_count": null,
   "id": "98fb3003-155f-4bac-9cf8-1bf173580b35",
   "metadata": {},
   "outputs": [],
   "source": [
    "df_no_lang.groupby('emoji')['count'].sum().sort_values(ascending=False).head(6)"
   ]
  },
  {
   "cell_type": "code",
   "execution_count": null,
   "id": "5942130d-9108-4f5c-b547-1f497cfaff06",
   "metadata": {},
   "outputs": [],
   "source": [
    "ne1 = df.loc[(df['emoji'] == '🔥') & (df['count'] > 20),:].sort_values('avg').head(5)"
   ]
  },
  {
   "cell_type": "code",
   "execution_count": null,
   "id": "8e32f1f0-55c8-4eec-9668-315d80e09c72",
   "metadata": {},
   "outputs": [],
   "source": [
    "po1 = df.loc[(df['emoji'] == '🔥') & (df['count'] > 20),:].sort_values('avg',ascending=False).head(5)"
   ]
  },
  {
   "cell_type": "code",
   "execution_count": null,
   "id": "5e3f1d2c-0fe8-4677-b143-e1734e207843",
   "metadata": {},
   "outputs": [],
   "source": [
    "ne2 = df.loc[(df['emoji'] == '🙏') & (df['count'] > 20),:].sort_values('avg').head(5)"
   ]
  },
  {
   "cell_type": "code",
   "execution_count": null,
   "id": "f9060fa7-cbb1-4a0d-bfb6-438e5da0ba01",
   "metadata": {},
   "outputs": [],
   "source": [
    "po2 = df.loc[(df['emoji'] == '🙏') & (df['count'] > 20),:].sort_values('avg',ascending=False).head(5)"
   ]
  },
  {
   "cell_type": "code",
   "execution_count": null,
   "id": "be09598e-f266-445a-a476-ce74e4812f96",
   "metadata": {},
   "outputs": [],
   "source": [
    "ne3 = df.loc[(df['emoji'] == '😂') & (df['count'] > 20),:].sort_values('avg').head(5)"
   ]
  },
  {
   "cell_type": "code",
   "execution_count": null,
   "id": "b9ce369e-af81-4d58-8e18-66e05ac7283c",
   "metadata": {},
   "outputs": [],
   "source": [
    "po3 = df.loc[(df['emoji'] == '😂') & (df['count'] > 20),:].sort_values('avg',ascending=False).head(5)"
   ]
  },
  {
   "cell_type": "code",
   "execution_count": null,
   "id": "973bf76a-e867-4726-b23f-2d8f4be93632",
   "metadata": {},
   "outputs": [],
   "source": [
    "ne4 = df.loc[(df['emoji'] == '👏') & (df['count'] > 20),:].sort_values('avg').head(5)"
   ]
  },
  {
   "cell_type": "code",
   "execution_count": null,
   "id": "56cfcbc4-ebac-4547-9d62-b5a1156e4be6",
   "metadata": {},
   "outputs": [],
   "source": [
    "po4 = df.loc[(df['emoji'] == '👏') & (df['count'] > 20),:].sort_values('avg',ascending=False).head(5)"
   ]
  },
  {
   "cell_type": "code",
   "execution_count": null,
   "id": "af765782-7115-4d7d-a027-0c22493eec61",
   "metadata": {},
   "outputs": [],
   "source": [
    "ne5 = df.loc[(df['emoji'] == '👍') & (df['count'] > 20),:].sort_values('avg').head(5)"
   ]
  },
  {
   "cell_type": "code",
   "execution_count": null,
   "id": "0f9e8c15-fbd9-4023-9527-7951f388e6b2",
   "metadata": {},
   "outputs": [],
   "source": [
    "po5 = df.loc[(df['emoji'] == '👍') & (df['count'] > 20),:].sort_values('avg',ascending=False).head(5)"
   ]
  },
  {
   "cell_type": "code",
   "execution_count": null,
   "id": "5b1d7eab-d615-4541-97fe-0931db25e0ba",
   "metadata": {},
   "outputs": [],
   "source": [
    "dfs3 = [po1,ne1,po2,ne2,po3,ne3,po4,ne4,po5,ne5]\n",
    "merged_df3 = pd.concat(dfs3)\n",
    "merged_df3 = merged_df3.reset_index(drop=True)"
   ]
  },
  {
   "cell_type": "code",
   "execution_count": null,
   "id": "1f2b076b-ae31-4cde-81cc-e34e7e2cca29",
   "metadata": {},
   "outputs": [],
   "source": [
    "json_data3 = merged_df3.to_json(orient='records')\n",
    "merged_df3.to_json('emoji_diff_in_lang.json')"
   ]
  },
  {
   "attachments": {},
   "cell_type": "markdown",
   "id": "b576f088-9298-47ff-a804-94084212fa16",
   "metadata": {},
   "source": [
    "### Emoji sentiment（AU）"
   ]
  },
  {
   "cell_type": "code",
   "execution_count": 6,
   "id": "a5991a58-2c80-4c92-8ce9-2369930c8d00",
   "metadata": {},
   "outputs": [],
   "source": [
    "url = f\"http://172.26.132.163:5984/twitter/_design/emoji-senti/_view/emoji-senti\"\n",
    "\n",
    "response = requests.get(url, auth=('admin', 'pass'))\n",
    "\n",
    "if response.status_code == 200:\n",
    "    view_data4 = response.json()\n",
    "else:\n",
    "    print(\"Failed to retrieve view data. Status code:\", response.status_code)"
   ]
  },
  {
   "cell_type": "code",
   "execution_count": 7,
   "id": "f38913eb-8041-4fca-93a8-8ca14710c1da",
   "metadata": {},
   "outputs": [],
   "source": [
    "data4 = view_data4['rows']\n",
    "value = [list(d.values())[2] for d in data4]\n",
    "emoji = [list(d.values())[1] for d in data4]"
   ]
  },
  {
   "cell_type": "code",
   "execution_count": 8,
   "id": "3536f5d3-50b4-41c0-8c41-4f4da408ee7e",
   "metadata": {},
   "outputs": [],
   "source": [
    "data_clean = {\n",
    "    'emoji': emoji,\n",
    "    'value': value,\n",
    "}"
   ]
  },
  {
   "cell_type": "code",
   "execution_count": 9,
   "id": "4f90ece7-09b3-44d1-a00a-8b30209816a5",
   "metadata": {},
   "outputs": [
    {
     "data": {
      "text/html": [
       "<div>\n",
       "<style scoped>\n",
       "    .dataframe tbody tr th:only-of-type {\n",
       "        vertical-align: middle;\n",
       "    }\n",
       "\n",
       "    .dataframe tbody tr th {\n",
       "        vertical-align: top;\n",
       "    }\n",
       "\n",
       "    .dataframe thead th {\n",
       "        text-align: right;\n",
       "    }\n",
       "</style>\n",
       "<table border=\"1\" class=\"dataframe\">\n",
       "  <thead>\n",
       "    <tr style=\"text-align: right;\">\n",
       "      <th></th>\n",
       "      <th>emoji</th>\n",
       "      <th>value</th>\n",
       "    </tr>\n",
       "  </thead>\n",
       "  <tbody>\n",
       "    <tr>\n",
       "      <th>0</th>\n",
       "      <td>🇦</td>\n",
       "      <td>0.142857</td>\n",
       "    </tr>\n",
       "    <tr>\n",
       "      <th>1</th>\n",
       "      <td>🇦</td>\n",
       "      <td>0.043478</td>\n",
       "    </tr>\n",
       "    <tr>\n",
       "      <th>2</th>\n",
       "      <td>🇦</td>\n",
       "      <td>0.000000</td>\n",
       "    </tr>\n",
       "    <tr>\n",
       "      <th>3</th>\n",
       "      <td>🇦</td>\n",
       "      <td>0.000000</td>\n",
       "    </tr>\n",
       "    <tr>\n",
       "      <th>4</th>\n",
       "      <td>🇦</td>\n",
       "      <td>0.000000</td>\n",
       "    </tr>\n",
       "  </tbody>\n",
       "</table>\n",
       "</div>"
      ],
      "text/plain": [
       "  emoji     value\n",
       "0     🇦  0.142857\n",
       "1     🇦  0.043478\n",
       "2     🇦  0.000000\n",
       "3     🇦  0.000000\n",
       "4     🇦  0.000000"
      ]
     },
     "execution_count": 9,
     "metadata": {},
     "output_type": "execute_result"
    }
   ],
   "source": [
    "df = pd.DataFrame(data_clean)\n",
    "df.head(5)"
   ]
  },
  {
   "cell_type": "code",
   "execution_count": 36,
   "id": "627152fb-6233-4294-99e8-8bcf665b8d57",
   "metadata": {},
   "outputs": [],
   "source": [
    "counts = df.groupby('emoji').count()\n",
    "counts.rename(columns={'value': 'counts'}, inplace=True)"
   ]
  },
  {
   "cell_type": "code",
   "execution_count": 37,
   "id": "2a394a12-2481-4052-b38c-34f205a052f2",
   "metadata": {},
   "outputs": [],
   "source": [
    "positive_counts = df[df['value'] > 0].groupby('emoji').count()\n",
    "negative_counts = df[df['value'] < 0].groupby('emoji').count()\n",
    "neutra_counts = df[df['value'] == 0].groupby('emoji').count()"
   ]
  },
  {
   "cell_type": "code",
   "execution_count": 38,
   "id": "d18fa72a-daa1-4a20-a517-47210be12635",
   "metadata": {},
   "outputs": [],
   "source": [
    "positive_perent = df.groupby('emoji')['value'].apply(lambda x: (x > 0).mean() * 100)\n",
    "positive_perent = positive_perent.rename('positive')\n",
    "\n",
    "negative_perent = df.groupby('emoji')['value'].apply(lambda x: (x < 0).mean() * 100)\n",
    "negative_perent = negative_perent.rename('negative')\n",
    "\n",
    "neutral_perent = df.groupby('emoji')['value'].apply(lambda x: (x == 0).mean() * 100)\n",
    "neutral_perent = neutral_perent.rename('neutral')"
   ]
  },
  {
   "cell_type": "code",
   "execution_count": 39,
   "id": "fae66e12-fe02-4b7e-b2e7-cd10bd234e52",
   "metadata": {},
   "outputs": [],
   "source": [
    "df_perent = pd.concat([positive_perent ,neutral_perent,negative_perent,counts], axis=1)\n",
    "df_perent = df_perent[df_perent.counts > 10]"
   ]
  },
  {
   "cell_type": "code",
   "execution_count": 40,
   "id": "1606953f-7cf3-482f-b8e8-e26c454d31ca",
   "metadata": {},
   "outputs": [],
   "source": [
    "df_perent['diff'] = abs(df_perent['positive'] - df_perent['negative'])"
   ]
  },
  {
   "cell_type": "code",
   "execution_count": 41,
   "id": "f1f042e5-22db-4f83-a346-bd2682ef75af",
   "metadata": {},
   "outputs": [],
   "source": [
    "df_perent = df_perent.reset_index()"
   ]
  },
  {
   "cell_type": "code",
   "execution_count": 42,
   "id": "9dc9d12d-663f-47ad-b859-0fd668fd562f",
   "metadata": {},
   "outputs": [
    {
     "data": {
      "text/html": [
       "<div>\n",
       "<style scoped>\n",
       "    .dataframe tbody tr th:only-of-type {\n",
       "        vertical-align: middle;\n",
       "    }\n",
       "\n",
       "    .dataframe tbody tr th {\n",
       "        vertical-align: top;\n",
       "    }\n",
       "\n",
       "    .dataframe thead th {\n",
       "        text-align: right;\n",
       "    }\n",
       "</style>\n",
       "<table border=\"1\" class=\"dataframe\">\n",
       "  <thead>\n",
       "    <tr style=\"text-align: right;\">\n",
       "      <th></th>\n",
       "      <th>emoji</th>\n",
       "      <th>positive</th>\n",
       "      <th>neutral</th>\n",
       "      <th>negative</th>\n",
       "      <th>counts</th>\n",
       "      <th>diff</th>\n",
       "    </tr>\n",
       "  </thead>\n",
       "  <tbody>\n",
       "    <tr>\n",
       "      <th>544</th>\n",
       "      <td>🔼</td>\n",
       "      <td>13.333333</td>\n",
       "      <td>73.333333</td>\n",
       "      <td>13.333333</td>\n",
       "      <td>15</td>\n",
       "      <td>0.000000</td>\n",
       "    </tr>\n",
       "    <tr>\n",
       "      <th>587</th>\n",
       "      <td>🗯</td>\n",
       "      <td>15.000000</td>\n",
       "      <td>70.000000</td>\n",
       "      <td>15.000000</td>\n",
       "      <td>40</td>\n",
       "      <td>0.000000</td>\n",
       "    </tr>\n",
       "    <tr>\n",
       "      <th>644</th>\n",
       "      <td>😱</td>\n",
       "      <td>21.470054</td>\n",
       "      <td>57.114338</td>\n",
       "      <td>21.415608</td>\n",
       "      <td>5510</td>\n",
       "      <td>0.054446</td>\n",
       "    </tr>\n",
       "    <tr>\n",
       "      <th>646</th>\n",
       "      <td>😳</td>\n",
       "      <td>23.480877</td>\n",
       "      <td>52.677267</td>\n",
       "      <td>23.841856</td>\n",
       "      <td>11635</td>\n",
       "      <td>0.360980</td>\n",
       "    </tr>\n",
       "    <tr>\n",
       "      <th>648</th>\n",
       "      <td>😵</td>\n",
       "      <td>17.939110</td>\n",
       "      <td>63.653396</td>\n",
       "      <td>18.407494</td>\n",
       "      <td>2135</td>\n",
       "      <td>0.468384</td>\n",
       "    </tr>\n",
       "  </tbody>\n",
       "</table>\n",
       "</div>"
      ],
      "text/plain": [
       "    emoji   positive    neutral   negative  counts      diff\n",
       "544     🔼  13.333333  73.333333  13.333333      15  0.000000\n",
       "587     🗯  15.000000  70.000000  15.000000      40  0.000000\n",
       "644     😱  21.470054  57.114338  21.415608    5510  0.054446\n",
       "646     😳  23.480877  52.677267  23.841856   11635  0.360980\n",
       "648     😵  17.939110  63.653396  18.407494    2135  0.468384"
      ]
     },
     "execution_count": 42,
     "metadata": {},
     "output_type": "execute_result"
    }
   ],
   "source": [
    "diff = df_perent.sort_values('diff').head(5)\n",
    "diff"
   ]
  },
  {
   "cell_type": "code",
   "execution_count": 43,
   "id": "ed79400e-4c06-44c0-9d62-965927744d40",
   "metadata": {},
   "outputs": [
    {
     "data": {
      "text/html": [
       "<div>\n",
       "<style scoped>\n",
       "    .dataframe tbody tr th:only-of-type {\n",
       "        vertical-align: middle;\n",
       "    }\n",
       "\n",
       "    .dataframe tbody tr th {\n",
       "        vertical-align: top;\n",
       "    }\n",
       "\n",
       "    .dataframe thead th {\n",
       "        text-align: right;\n",
       "    }\n",
       "</style>\n",
       "<table border=\"1\" class=\"dataframe\">\n",
       "  <thead>\n",
       "    <tr style=\"text-align: right;\">\n",
       "      <th></th>\n",
       "      <th>emoji</th>\n",
       "      <th>data</th>\n",
       "    </tr>\n",
       "  </thead>\n",
       "  <tbody>\n",
       "    <tr>\n",
       "      <th>544</th>\n",
       "      <td>🔼</td>\n",
       "      <td>[{'x': 'positive', 'y': 13.33}, {'x': 'neutral...</td>\n",
       "    </tr>\n",
       "    <tr>\n",
       "      <th>587</th>\n",
       "      <td>🗯</td>\n",
       "      <td>[{'x': 'positive', 'y': 15.0}, {'x': 'neutral'...</td>\n",
       "    </tr>\n",
       "    <tr>\n",
       "      <th>644</th>\n",
       "      <td>😱</td>\n",
       "      <td>[{'x': 'positive', 'y': 21.47}, {'x': 'neutral...</td>\n",
       "    </tr>\n",
       "    <tr>\n",
       "      <th>646</th>\n",
       "      <td>😳</td>\n",
       "      <td>[{'x': 'positive', 'y': 23.48}, {'x': 'neutral...</td>\n",
       "    </tr>\n",
       "    <tr>\n",
       "      <th>648</th>\n",
       "      <td>😵</td>\n",
       "      <td>[{'x': 'positive', 'y': 17.94}, {'x': 'neutral...</td>\n",
       "    </tr>\n",
       "  </tbody>\n",
       "</table>\n",
       "</div>"
      ],
      "text/plain": [
       "    emoji                                               data\n",
       "544     🔼  [{'x': 'positive', 'y': 13.33}, {'x': 'neutral...\n",
       "587     🗯  [{'x': 'positive', 'y': 15.0}, {'x': 'neutral'...\n",
       "644     😱  [{'x': 'positive', 'y': 21.47}, {'x': 'neutral...\n",
       "646     😳  [{'x': 'positive', 'y': 23.48}, {'x': 'neutral...\n",
       "648     😵  [{'x': 'positive', 'y': 17.94}, {'x': 'neutral..."
      ]
     },
     "execution_count": 43,
     "metadata": {},
     "output_type": "execute_result"
    }
   ],
   "source": [
    "diff['data'] = diff.apply(lambda row: [{\"x\": \"positive\", \"y\": round(row['positive'],2)}, \n",
    "                                             {\"x\": \"neutral\", \"y\": round(row['neutral'],2)}, \n",
    "                                             {\"x\": \"negative\", \"y\": round(row['negative'],2)}], \n",
    "                                    axis=1)\n",
    "diff.drop(['diff','positive','neutral','negative','counts'], axis=1, inplace=True)\n",
    "diff"
   ]
  },
  {
   "cell_type": "code",
   "execution_count": 44,
   "id": "f0a0fc0b-e87f-4598-8752-fe31fcf925e8",
   "metadata": {},
   "outputs": [
    {
     "data": {
      "text/html": [
       "<div>\n",
       "<style scoped>\n",
       "    .dataframe tbody tr th:only-of-type {\n",
       "        vertical-align: middle;\n",
       "    }\n",
       "\n",
       "    .dataframe tbody tr th {\n",
       "        vertical-align: top;\n",
       "    }\n",
       "\n",
       "    .dataframe thead th {\n",
       "        text-align: right;\n",
       "    }\n",
       "</style>\n",
       "<table border=\"1\" class=\"dataframe\">\n",
       "  <thead>\n",
       "    <tr style=\"text-align: right;\">\n",
       "      <th></th>\n",
       "      <th>emoji</th>\n",
       "      <th>positive</th>\n",
       "      <th>neutral</th>\n",
       "      <th>negative</th>\n",
       "      <th>counts</th>\n",
       "      <th>diff</th>\n",
       "    </tr>\n",
       "  </thead>\n",
       "  <tbody>\n",
       "    <tr>\n",
       "      <th>597</th>\n",
       "      <td>😂</td>\n",
       "      <td>36.316472</td>\n",
       "      <td>52.176556</td>\n",
       "      <td>11.506971</td>\n",
       "      <td>123360</td>\n",
       "      <td>24.809501</td>\n",
       "    </tr>\n",
       "    <tr>\n",
       "      <th>674</th>\n",
       "      <td>🙏</td>\n",
       "      <td>56.609403</td>\n",
       "      <td>38.941822</td>\n",
       "      <td>4.448775</td>\n",
       "      <td>41562</td>\n",
       "      <td>52.160627</td>\n",
       "    </tr>\n",
       "    <tr>\n",
       "      <th>340</th>\n",
       "      <td>👏</td>\n",
       "      <td>46.345333</td>\n",
       "      <td>50.045149</td>\n",
       "      <td>3.609518</td>\n",
       "      <td>40975</td>\n",
       "      <td>42.735815</td>\n",
       "    </tr>\n",
       "    <tr>\n",
       "      <th>524</th>\n",
       "      <td>🔥</td>\n",
       "      <td>27.224041</td>\n",
       "      <td>64.468641</td>\n",
       "      <td>8.307317</td>\n",
       "      <td>39399</td>\n",
       "      <td>18.916724</td>\n",
       "    </tr>\n",
       "    <tr>\n",
       "      <th>338</th>\n",
       "      <td>👍</td>\n",
       "      <td>49.441755</td>\n",
       "      <td>44.759600</td>\n",
       "      <td>5.798645</td>\n",
       "      <td>30990</td>\n",
       "      <td>43.643111</td>\n",
       "    </tr>\n",
       "  </tbody>\n",
       "</table>\n",
       "</div>"
      ],
      "text/plain": [
       "    emoji   positive    neutral   negative  counts       diff\n",
       "597     😂  36.316472  52.176556  11.506971  123360  24.809501\n",
       "674     🙏  56.609403  38.941822   4.448775   41562  52.160627\n",
       "340     👏  46.345333  50.045149   3.609518   40975  42.735815\n",
       "524     🔥  27.224041  64.468641   8.307317   39399  18.916724\n",
       "338     👍  49.441755  44.759600   5.798645   30990  43.643111"
      ]
     },
     "execution_count": 44,
     "metadata": {},
     "output_type": "execute_result"
    }
   ],
   "source": [
    "df_perent = df_perent.drop(df_perent.index[256])\n",
    "most_5 = df_perent.sort_values('counts',ascending = False).head(5)\n",
    "most_5"
   ]
  },
  {
   "cell_type": "code",
   "execution_count": 45,
   "id": "d9a457c3-913d-4725-b461-955f9c5b4e50",
   "metadata": {},
   "outputs": [],
   "source": [
    "most_5['data'] = most_5.apply(lambda row: [{\"x\": \"positive\", \"y\": round(row['positive'],2)}, \n",
    "                                             {\"x\": \"neutral\", \"y\": round(row['neutral'],2)}, \n",
    "                                             {\"x\": \"negative\", \"y\": round(row['negative'],2)}], \n",
    "                                    axis=1)\n",
    "most_5.drop(['diff','positive','neutral','negative','counts'], axis=1, inplace=True)"
   ]
  },
  {
   "attachments": {},
   "cell_type": "markdown",
   "id": "3495f3d7-84dd-4213-8137-4bf1a6c0e054",
   "metadata": {},
   "source": [
    "#### The five with the greatest positive and negative differences"
   ]
  },
  {
   "cell_type": "code",
   "execution_count": 46,
   "id": "9749dd06-bd66-4c5a-8586-67eb09db3fb7",
   "metadata": {},
   "outputs": [
    {
     "data": {
      "text/plain": [
       "'[{\"emoji\":\"\\\\ud83d\\\\udd3c\",\"data\":[{\"x\":\"positive\",\"y\":13.33},{\"x\":\"neutral\",\"y\":73.33},{\"x\":\"negative\",\"y\":13.33}]},{\"emoji\":\"\\\\ud83d\\\\uddef\",\"data\":[{\"x\":\"positive\",\"y\":15.0},{\"x\":\"neutral\",\"y\":70.0},{\"x\":\"negative\",\"y\":15.0}]},{\"emoji\":\"\\\\ud83d\\\\ude31\",\"data\":[{\"x\":\"positive\",\"y\":21.47},{\"x\":\"neutral\",\"y\":57.11},{\"x\":\"negative\",\"y\":21.42}]},{\"emoji\":\"\\\\ud83d\\\\ude33\",\"data\":[{\"x\":\"positive\",\"y\":23.48},{\"x\":\"neutral\",\"y\":52.68},{\"x\":\"negative\",\"y\":23.84}]},{\"emoji\":\"\\\\ud83d\\\\ude35\",\"data\":[{\"x\":\"positive\",\"y\":17.94},{\"x\":\"neutral\",\"y\":63.65},{\"x\":\"negative\",\"y\":18.41}]}]'"
      ]
     },
     "execution_count": 46,
     "metadata": {},
     "output_type": "execute_result"
    }
   ],
   "source": [
    "json_data3 = diff.to_json(orient='records')\n",
    "diff.to_json('most_diff_sent.json')\n",
    "json_data3"
   ]
  },
  {
   "attachments": {},
   "cell_type": "markdown",
   "id": "4d690a98-70bf-4abe-8cfa-5bf6cef21ecc",
   "metadata": {},
   "source": [
    "#### The five most used difference values"
   ]
  },
  {
   "cell_type": "code",
   "execution_count": 47,
   "id": "9d21ed57-6300-4126-b364-77f0b91aa2a4",
   "metadata": {},
   "outputs": [
    {
     "data": {
      "text/plain": [
       "'[{\"emoji\":\"\\\\ud83d\\\\ude02\",\"data\":[{\"x\":\"positive\",\"y\":36.32},{\"x\":\"neutral\",\"y\":52.18},{\"x\":\"negative\",\"y\":11.51}]},{\"emoji\":\"\\\\ud83d\\\\ude4f\",\"data\":[{\"x\":\"positive\",\"y\":56.61},{\"x\":\"neutral\",\"y\":38.94},{\"x\":\"negative\",\"y\":4.45}]},{\"emoji\":\"\\\\ud83d\\\\udc4f\",\"data\":[{\"x\":\"positive\",\"y\":46.35},{\"x\":\"neutral\",\"y\":50.05},{\"x\":\"negative\",\"y\":3.61}]},{\"emoji\":\"\\\\ud83d\\\\udd25\",\"data\":[{\"x\":\"positive\",\"y\":27.22},{\"x\":\"neutral\",\"y\":64.47},{\"x\":\"negative\",\"y\":8.31}]},{\"emoji\":\"\\\\ud83d\\\\udc4d\",\"data\":[{\"x\":\"positive\",\"y\":49.44},{\"x\":\"neutral\",\"y\":44.76},{\"x\":\"negative\",\"y\":5.8}]}]'"
      ]
     },
     "execution_count": 47,
     "metadata": {},
     "output_type": "execute_result"
    }
   ],
   "source": [
    "json_data4 = most_5.to_json(orient='records')\n",
    "most_5.to_json('most_count5_diff_sent.json')\n",
    "json_data4"
   ]
  },
  {
   "attachments": {},
   "cell_type": "markdown",
   "id": "9ecc43be-aab1-4fe6-ae82-9f60aabbb60d",
   "metadata": {},
   "source": [
    "### Emoji subjectivity"
   ]
  },
  {
   "cell_type": "code",
   "execution_count": 48,
   "id": "55be7500-2ecf-4657-b097-3843e4527f31",
   "metadata": {},
   "outputs": [],
   "source": [
    "url = f\"http://172.26.132.163:5984/twitter/_design/emoji-sbj/_view/emoji-sbj\"\n",
    "\n",
    "response = requests.get(url, auth=('admin', 'pass'))\n",
    "\n",
    "if response.status_code == 200:\n",
    "    view_data5 = response.json()\n",
    "else:\n",
    "    print(\"Failed to retrieve view data. Status code:\", response.status_code)"
   ]
  },
  {
   "cell_type": "code",
   "execution_count": 49,
   "id": "3b46c460-dd95-4e3f-bf92-1a16e9e31f09",
   "metadata": {},
   "outputs": [],
   "source": [
    "data5 = view_data5['rows']\n",
    "value = [list(d.values())[2] for d in data4]\n",
    "emoji = [list(d.values())[1] for d in data4]"
   ]
  },
  {
   "cell_type": "code",
   "execution_count": 50,
   "id": "42461f76-c5ac-475e-a454-1c3659ad7228",
   "metadata": {},
   "outputs": [],
   "source": [
    "data_clean = {\n",
    "    'emoji': emoji,\n",
    "    'value': value,\n",
    "}"
   ]
  },
  {
   "cell_type": "code",
   "execution_count": 51,
   "id": "c5675644-b937-4834-b8e8-17350ee2e187",
   "metadata": {},
   "outputs": [
    {
     "data": {
      "text/html": [
       "<div>\n",
       "<style scoped>\n",
       "    .dataframe tbody tr th:only-of-type {\n",
       "        vertical-align: middle;\n",
       "    }\n",
       "\n",
       "    .dataframe tbody tr th {\n",
       "        vertical-align: top;\n",
       "    }\n",
       "\n",
       "    .dataframe thead th {\n",
       "        text-align: right;\n",
       "    }\n",
       "</style>\n",
       "<table border=\"1\" class=\"dataframe\">\n",
       "  <thead>\n",
       "    <tr style=\"text-align: right;\">\n",
       "      <th></th>\n",
       "      <th>emoji</th>\n",
       "      <th>value</th>\n",
       "    </tr>\n",
       "  </thead>\n",
       "  <tbody>\n",
       "    <tr>\n",
       "      <th>0</th>\n",
       "      <td>🇦</td>\n",
       "      <td>0.142857</td>\n",
       "    </tr>\n",
       "    <tr>\n",
       "      <th>1</th>\n",
       "      <td>🇦</td>\n",
       "      <td>0.043478</td>\n",
       "    </tr>\n",
       "    <tr>\n",
       "      <th>2</th>\n",
       "      <td>🇦</td>\n",
       "      <td>0.000000</td>\n",
       "    </tr>\n",
       "    <tr>\n",
       "      <th>3</th>\n",
       "      <td>🇦</td>\n",
       "      <td>0.000000</td>\n",
       "    </tr>\n",
       "    <tr>\n",
       "      <th>4</th>\n",
       "      <td>🇦</td>\n",
       "      <td>0.000000</td>\n",
       "    </tr>\n",
       "  </tbody>\n",
       "</table>\n",
       "</div>"
      ],
      "text/plain": [
       "  emoji     value\n",
       "0     🇦  0.142857\n",
       "1     🇦  0.043478\n",
       "2     🇦  0.000000\n",
       "3     🇦  0.000000\n",
       "4     🇦  0.000000"
      ]
     },
     "execution_count": 51,
     "metadata": {},
     "output_type": "execute_result"
    }
   ],
   "source": [
    "df = pd.DataFrame(data_clean)\n",
    "df.head(5)"
   ]
  },
  {
   "cell_type": "code",
   "execution_count": 52,
   "id": "bd61b2a3-1b6e-44e7-8192-4fac075101aa",
   "metadata": {},
   "outputs": [],
   "source": [
    "counts = df.groupby('emoji').count()\n",
    "counts.rename(columns={'value': 'counts'}, inplace=True)"
   ]
  },
  {
   "cell_type": "code",
   "execution_count": 53,
   "id": "b07a1d96-b05a-4cb7-8ae6-f4ba38cfe485",
   "metadata": {},
   "outputs": [],
   "source": [
    "positive_counts = df[df['value'] > 0].groupby('emoji').count()\n",
    "negative_counts = df[df['value'] < 0].groupby('emoji').count()\n",
    "neutra_counts = df[df['value'] == 0].groupby('emoji').count()"
   ]
  },
  {
   "cell_type": "code",
   "execution_count": 54,
   "id": "6d6b3f73-debb-4e67-b3a6-ca7acfb3d661",
   "metadata": {},
   "outputs": [],
   "source": [
    "positive_perent = df.groupby('emoji')['value'].apply(lambda x: (x > 0.5).mean() * 100)\n",
    "positive_perent = positive_perent.rename('positive')\n",
    "\n",
    "negative_perent = df.groupby('emoji')['value'].apply(lambda x: (x < 0.5).mean() * 100)\n",
    "negative_perent = negative_perent.rename('negative')\n",
    "\n",
    "neutral_perent = df.groupby('emoji')['value'].apply(lambda x: (x == 0.5).mean() * 100)\n",
    "neutral_perent = neutral_perent.rename('neutral')"
   ]
  },
  {
   "cell_type": "code",
   "execution_count": 55,
   "id": "ec0b8af1-d33d-4143-b729-36491f010985",
   "metadata": {},
   "outputs": [],
   "source": [
    "df_perent = pd.concat([positive_perent ,neutral_perent,negative_perent,counts], axis=1)\n",
    "df_perent = df_perent[df_perent.counts > 10]"
   ]
  },
  {
   "cell_type": "code",
   "execution_count": 56,
   "id": "7a161fc9-208e-46b2-9891-b5cc9fd90be8",
   "metadata": {},
   "outputs": [],
   "source": [
    "df_perent['diff'] = abs(df_perent['positive'] - df_perent['negative'])"
   ]
  },
  {
   "cell_type": "code",
   "execution_count": 57,
   "id": "b566d946-9a8e-4cf3-93be-8a521242580f",
   "metadata": {},
   "outputs": [],
   "source": [
    "df_perent = df_perent.reset_index()"
   ]
  },
  {
   "cell_type": "code",
   "execution_count": 58,
   "id": "a55cbe99-6c66-49d1-aeba-ff85ed55cb34",
   "metadata": {},
   "outputs": [
    {
     "data": {
      "text/html": [
       "<div>\n",
       "<style scoped>\n",
       "    .dataframe tbody tr th:only-of-type {\n",
       "        vertical-align: middle;\n",
       "    }\n",
       "\n",
       "    .dataframe tbody tr th {\n",
       "        vertical-align: top;\n",
       "    }\n",
       "\n",
       "    .dataframe thead th {\n",
       "        text-align: right;\n",
       "    }\n",
       "</style>\n",
       "<table border=\"1\" class=\"dataframe\">\n",
       "  <thead>\n",
       "    <tr style=\"text-align: right;\">\n",
       "      <th></th>\n",
       "      <th>emoji</th>\n",
       "      <th>positive</th>\n",
       "      <th>neutral</th>\n",
       "      <th>negative</th>\n",
       "      <th>counts</th>\n",
       "      <th>diff</th>\n",
       "    </tr>\n",
       "  </thead>\n",
       "  <tbody>\n",
       "    <tr>\n",
       "      <th>133</th>\n",
       "      <td>🍭</td>\n",
       "      <td>51.403368</td>\n",
       "      <td>7.858861</td>\n",
       "      <td>40.737771</td>\n",
       "      <td>1247</td>\n",
       "      <td>10.665597</td>\n",
       "    </tr>\n",
       "    <tr>\n",
       "      <th>107</th>\n",
       "      <td>🍓</td>\n",
       "      <td>38.660400</td>\n",
       "      <td>3.760282</td>\n",
       "      <td>57.579318</td>\n",
       "      <td>851</td>\n",
       "      <td>18.918919</td>\n",
       "    </tr>\n",
       "    <tr>\n",
       "      <th>82</th>\n",
       "      <td>🌺</td>\n",
       "      <td>36.731044</td>\n",
       "      <td>5.507868</td>\n",
       "      <td>57.761087</td>\n",
       "      <td>2796</td>\n",
       "      <td>21.030043</td>\n",
       "    </tr>\n",
       "    <tr>\n",
       "      <th>154</th>\n",
       "      <td>🎂</td>\n",
       "      <td>35.700389</td>\n",
       "      <td>6.322957</td>\n",
       "      <td>57.976654</td>\n",
       "      <td>2056</td>\n",
       "      <td>22.276265</td>\n",
       "    </tr>\n",
       "    <tr>\n",
       "      <th>547</th>\n",
       "      <td>🕊</td>\n",
       "      <td>33.999600</td>\n",
       "      <td>7.295623</td>\n",
       "      <td>58.704777</td>\n",
       "      <td>5003</td>\n",
       "      <td>24.705177</td>\n",
       "    </tr>\n",
       "  </tbody>\n",
       "</table>\n",
       "</div>"
      ],
      "text/plain": [
       "    emoji   positive   neutral   negative  counts       diff\n",
       "133     🍭  51.403368  7.858861  40.737771    1247  10.665597\n",
       "107     🍓  38.660400  3.760282  57.579318     851  18.918919\n",
       "82      🌺  36.731044  5.507868  57.761087    2796  21.030043\n",
       "154     🎂  35.700389  6.322957  57.976654    2056  22.276265\n",
       "547     🕊  33.999600  7.295623  58.704777    5003  24.705177"
      ]
     },
     "execution_count": 58,
     "metadata": {},
     "output_type": "execute_result"
    }
   ],
   "source": [
    "diff = df_perent.sort_values('diff').head(5)\n",
    "diff"
   ]
  },
  {
   "cell_type": "code",
   "execution_count": 59,
   "id": "278ffb55-e826-4834-ac15-25283ba6c543",
   "metadata": {},
   "outputs": [
    {
     "data": {
      "text/html": [
       "<div>\n",
       "<style scoped>\n",
       "    .dataframe tbody tr th:only-of-type {\n",
       "        vertical-align: middle;\n",
       "    }\n",
       "\n",
       "    .dataframe tbody tr th {\n",
       "        vertical-align: top;\n",
       "    }\n",
       "\n",
       "    .dataframe thead th {\n",
       "        text-align: right;\n",
       "    }\n",
       "</style>\n",
       "<table border=\"1\" class=\"dataframe\">\n",
       "  <thead>\n",
       "    <tr style=\"text-align: right;\">\n",
       "      <th></th>\n",
       "      <th>emoji</th>\n",
       "      <th>data</th>\n",
       "    </tr>\n",
       "  </thead>\n",
       "  <tbody>\n",
       "    <tr>\n",
       "      <th>133</th>\n",
       "      <td>🍭</td>\n",
       "      <td>[{'x': 'positive', 'y': 51.4}, {'x': 'neutral'...</td>\n",
       "    </tr>\n",
       "    <tr>\n",
       "      <th>107</th>\n",
       "      <td>🍓</td>\n",
       "      <td>[{'x': 'positive', 'y': 38.66}, {'x': 'neutral...</td>\n",
       "    </tr>\n",
       "    <tr>\n",
       "      <th>82</th>\n",
       "      <td>🌺</td>\n",
       "      <td>[{'x': 'positive', 'y': 36.73}, {'x': 'neutral...</td>\n",
       "    </tr>\n",
       "    <tr>\n",
       "      <th>154</th>\n",
       "      <td>🎂</td>\n",
       "      <td>[{'x': 'positive', 'y': 35.7}, {'x': 'neutral'...</td>\n",
       "    </tr>\n",
       "    <tr>\n",
       "      <th>547</th>\n",
       "      <td>🕊</td>\n",
       "      <td>[{'x': 'positive', 'y': 34.0}, {'x': 'neutral'...</td>\n",
       "    </tr>\n",
       "  </tbody>\n",
       "</table>\n",
       "</div>"
      ],
      "text/plain": [
       "    emoji                                               data\n",
       "133     🍭  [{'x': 'positive', 'y': 51.4}, {'x': 'neutral'...\n",
       "107     🍓  [{'x': 'positive', 'y': 38.66}, {'x': 'neutral...\n",
       "82      🌺  [{'x': 'positive', 'y': 36.73}, {'x': 'neutral...\n",
       "154     🎂  [{'x': 'positive', 'y': 35.7}, {'x': 'neutral'...\n",
       "547     🕊  [{'x': 'positive', 'y': 34.0}, {'x': 'neutral'..."
      ]
     },
     "execution_count": 59,
     "metadata": {},
     "output_type": "execute_result"
    }
   ],
   "source": [
    "diff['data'] = diff.apply(lambda row: [{\"x\": \"positive\", \"y\": round(row['positive'],2)}, \n",
    "                                             {\"x\": \"neutral\", \"y\": round(row['neutral'],2)}, \n",
    "                                             {\"x\": \"negative\", \"y\": round(row['negative'],2)}], \n",
    "                                    axis=1)\n",
    "diff.drop(['diff','positive','neutral','negative','counts'], axis=1, inplace=True)\n",
    "diff"
   ]
  },
  {
   "cell_type": "code",
   "execution_count": 60,
   "id": "a2b864c7-be7a-4970-8f2e-c12f35585210",
   "metadata": {},
   "outputs": [
    {
     "data": {
      "text/html": [
       "<div>\n",
       "<style scoped>\n",
       "    .dataframe tbody tr th:only-of-type {\n",
       "        vertical-align: middle;\n",
       "    }\n",
       "\n",
       "    .dataframe tbody tr th {\n",
       "        vertical-align: top;\n",
       "    }\n",
       "\n",
       "    .dataframe thead th {\n",
       "        text-align: right;\n",
       "    }\n",
       "</style>\n",
       "<table border=\"1\" class=\"dataframe\">\n",
       "  <thead>\n",
       "    <tr style=\"text-align: right;\">\n",
       "      <th></th>\n",
       "      <th>emoji</th>\n",
       "      <th>positive</th>\n",
       "      <th>neutral</th>\n",
       "      <th>negative</th>\n",
       "      <th>counts</th>\n",
       "      <th>diff</th>\n",
       "    </tr>\n",
       "  </thead>\n",
       "  <tbody>\n",
       "    <tr>\n",
       "      <th>597</th>\n",
       "      <td>😂</td>\n",
       "      <td>2.927205</td>\n",
       "      <td>1.931744</td>\n",
       "      <td>95.141051</td>\n",
       "      <td>123360</td>\n",
       "      <td>92.213846</td>\n",
       "    </tr>\n",
       "    <tr>\n",
       "      <th>674</th>\n",
       "      <td>🙏</td>\n",
       "      <td>15.016120</td>\n",
       "      <td>3.815986</td>\n",
       "      <td>81.167894</td>\n",
       "      <td>41562</td>\n",
       "      <td>66.151773</td>\n",
       "    </tr>\n",
       "    <tr>\n",
       "      <th>340</th>\n",
       "      <td>👏</td>\n",
       "      <td>10.828554</td>\n",
       "      <td>2.618670</td>\n",
       "      <td>86.552776</td>\n",
       "      <td>40975</td>\n",
       "      <td>75.724222</td>\n",
       "    </tr>\n",
       "    <tr>\n",
       "      <th>524</th>\n",
       "      <td>🔥</td>\n",
       "      <td>3.441712</td>\n",
       "      <td>0.850275</td>\n",
       "      <td>95.708013</td>\n",
       "      <td>39399</td>\n",
       "      <td>92.266301</td>\n",
       "    </tr>\n",
       "    <tr>\n",
       "      <th>338</th>\n",
       "      <td>👍</td>\n",
       "      <td>11.990965</td>\n",
       "      <td>2.836399</td>\n",
       "      <td>85.172636</td>\n",
       "      <td>30990</td>\n",
       "      <td>73.181672</td>\n",
       "    </tr>\n",
       "  </tbody>\n",
       "</table>\n",
       "</div>"
      ],
      "text/plain": [
       "    emoji   positive   neutral   negative  counts       diff\n",
       "597     😂   2.927205  1.931744  95.141051  123360  92.213846\n",
       "674     🙏  15.016120  3.815986  81.167894   41562  66.151773\n",
       "340     👏  10.828554  2.618670  86.552776   40975  75.724222\n",
       "524     🔥   3.441712  0.850275  95.708013   39399  92.266301\n",
       "338     👍  11.990965  2.836399  85.172636   30990  73.181672"
      ]
     },
     "execution_count": 60,
     "metadata": {},
     "output_type": "execute_result"
    }
   ],
   "source": [
    "df_perent = df_perent.drop(df_perent.index[256])\n",
    "most_5 = df_perent.sort_values('counts',ascending = False).head(5)\n",
    "most_5"
   ]
  },
  {
   "cell_type": "code",
   "execution_count": 61,
   "id": "b88d4a5e-3dbd-401d-af03-b0ff6a4489cc",
   "metadata": {},
   "outputs": [],
   "source": [
    "most_5['data'] = most_5.apply(lambda row: [{\"x\": \"positive\", \"y\": round(row['positive'],2)}, \n",
    "                                             {\"x\": \"neutral\", \"y\": round(row['neutral'],2)}, \n",
    "                                             {\"x\": \"negative\", \"y\": round(row['negative'],2)}], \n",
    "                                    axis=1)\n",
    "most_5.drop(['diff','positive','neutral','negative','counts'], axis=1, inplace=True)"
   ]
  },
  {
   "attachments": {},
   "cell_type": "markdown",
   "id": "fa8338d8-cef1-4352-a535-b3a547cbaa60",
   "metadata": {},
   "source": [
    "#### The five with the greatest subjectivity and objectivity differences"
   ]
  },
  {
   "cell_type": "code",
   "execution_count": 62,
   "id": "a92e7705-407b-47ba-a80d-d7ddb22683d6",
   "metadata": {},
   "outputs": [
    {
     "data": {
      "text/plain": [
       "'[{\"emoji\":\"\\\\ud83c\\\\udf6d\",\"data\":[{\"x\":\"positive\",\"y\":51.4},{\"x\":\"neutral\",\"y\":7.86},{\"x\":\"negative\",\"y\":40.74}]},{\"emoji\":\"\\\\ud83c\\\\udf53\",\"data\":[{\"x\":\"positive\",\"y\":38.66},{\"x\":\"neutral\",\"y\":3.76},{\"x\":\"negative\",\"y\":57.58}]},{\"emoji\":\"\\\\ud83c\\\\udf3a\",\"data\":[{\"x\":\"positive\",\"y\":36.73},{\"x\":\"neutral\",\"y\":5.51},{\"x\":\"negative\",\"y\":57.76}]},{\"emoji\":\"\\\\ud83c\\\\udf82\",\"data\":[{\"x\":\"positive\",\"y\":35.7},{\"x\":\"neutral\",\"y\":6.32},{\"x\":\"negative\",\"y\":57.98}]},{\"emoji\":\"\\\\ud83d\\\\udd4a\",\"data\":[{\"x\":\"positive\",\"y\":34.0},{\"x\":\"neutral\",\"y\":7.3},{\"x\":\"negative\",\"y\":58.7}]}]'"
      ]
     },
     "execution_count": 62,
     "metadata": {},
     "output_type": "execute_result"
    }
   ],
   "source": [
    "json_data5 = diff.to_json(orient='records')\n",
    "diff.to_json('most_diff_sub.json')\n",
    "json_data5"
   ]
  },
  {
   "attachments": {},
   "cell_type": "markdown",
   "id": "694820c8-f644-488b-b7ad-e9a64402ba73",
   "metadata": {},
   "source": [
    "#### The five most used variance values"
   ]
  },
  {
   "cell_type": "code",
   "execution_count": 63,
   "id": "7a14779b-0392-4e30-83ea-d5b2ec489ddb",
   "metadata": {},
   "outputs": [
    {
     "data": {
      "text/plain": [
       "'[{\"emoji\":\"\\\\ud83d\\\\ude02\",\"data\":[{\"x\":\"positive\",\"y\":2.93},{\"x\":\"neutral\",\"y\":1.93},{\"x\":\"negative\",\"y\":95.14}]},{\"emoji\":\"\\\\ud83d\\\\ude4f\",\"data\":[{\"x\":\"positive\",\"y\":15.02},{\"x\":\"neutral\",\"y\":3.82},{\"x\":\"negative\",\"y\":81.17}]},{\"emoji\":\"\\\\ud83d\\\\udc4f\",\"data\":[{\"x\":\"positive\",\"y\":10.83},{\"x\":\"neutral\",\"y\":2.62},{\"x\":\"negative\",\"y\":86.55}]},{\"emoji\":\"\\\\ud83d\\\\udd25\",\"data\":[{\"x\":\"positive\",\"y\":3.44},{\"x\":\"neutral\",\"y\":0.85},{\"x\":\"negative\",\"y\":95.71}]},{\"emoji\":\"\\\\ud83d\\\\udc4d\",\"data\":[{\"x\":\"positive\",\"y\":11.99},{\"x\":\"neutral\",\"y\":2.84},{\"x\":\"negative\",\"y\":85.17}]}]'"
      ]
     },
     "execution_count": 63,
     "metadata": {},
     "output_type": "execute_result"
    }
   ],
   "source": [
    "json_data4 = most_5.to_json(orient='records')\n",
    "most_5.to_json('most_count5_diff_sent.json')\n",
    "json_data4"
   ]
  },
  {
   "cell_type": "code",
   "execution_count": null,
   "id": "3626f392-923c-4b6f-9474-dd7c357edb74",
   "metadata": {},
   "outputs": [],
   "source": []
  }
 ],
 "metadata": {
  "kernelspec": {
   "display_name": "Python 3 (ipykernel)",
   "language": "python",
   "name": "python3"
  },
  "language_info": {
   "codemirror_mode": {
    "name": "ipython",
    "version": 3
   },
   "file_extension": ".py",
   "mimetype": "text/x-python",
   "name": "python",
   "nbconvert_exporter": "python",
   "pygments_lexer": "ipython3",
   "version": "3.9.7"
  }
 },
 "nbformat": 4,
 "nbformat_minor": 5
}
